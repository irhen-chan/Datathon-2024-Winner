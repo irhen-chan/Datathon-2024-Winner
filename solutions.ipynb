{
 "cells": [
  {
   "cell_type": "code",
   "execution_count": 13,
   "metadata": {},
   "outputs": [],
   "source": [
    "import pandas as pd\n",
    "from sklearn.ensemble import RandomForestClassifier\n",
    "from sklearn.model_selection import StratifiedKFold\n",
    "from sklearn.metrics import accuracy_score, classification_report, confusion_matrix\n",
    "from sklearn.model_selection import cross_val_score\n",
    "from sklearn.preprocessing import StandardScaler\n",
    "from sklearn.model_selection import train_test_split\n",
    "import seaborn as sns\n",
    "import matplotlib.pyplot as plt\n",
    "from sklearn.model_selection import cross_validate\n",
    "from sklearn.model_selection import GridSearchCV\n",
    "from sklearn.datasets import make_classification\n",
    "\n",
    "train_data = pd.read_csv(\"../data/curated/train_data_curated.csv\")\n",
    "test_data = pd.read_csv(\"../data/curated/test_data_curated.csv\")"
   ]
  },
  {
   "cell_type": "markdown",
   "metadata": {},
   "source": [
    "### Data Organizing"
   ]
  },
  {
   "cell_type": "code",
   "execution_count": 14,
   "metadata": {},
   "outputs": [],
   "source": [
    "# Finds out all the numerical and string columns in the datasets\n",
    "obj_lst = []\n",
    "num_lst = []\n",
    "target = \"IsFraud\"\n",
    "\n",
    "for data_name, data_type in zip(train_data.columns, train_data.dtypes):\n",
    "    if data_type == \"object\":\n",
    "        obj_lst.append(data_name)\n",
    "    else:\n",
    "        num_lst.append(data_name)\n",
    "\n",
    "num_lst.remove(target)\n",
    "numerical_train_data = train_data[num_lst]\n",
    "numerical_test_data = test_data[num_lst]\n",
    "\n",
    "obj_train_data = train_data[obj_lst]\n",
    "obj_test_data = test_data[obj_lst]\n",
    "\n",
    "# Isolating the target column for later\n",
    "fraud = train_data[[target]]"
   ]
  },
  {
   "cell_type": "code",
   "execution_count": 15,
   "metadata": {},
   "outputs": [
    {
     "data": {
      "text/plain": [
       "['TransactionType', 'TransactionLocation']"
      ]
     },
     "execution_count": 15,
     "metadata": {},
     "output_type": "execute_result"
    }
   ],
   "source": [
    "obj_lst"
   ]
  },
  {
   "cell_type": "code",
   "execution_count": 16,
   "metadata": {},
   "outputs": [
    {
     "data": {
      "text/plain": [
       "['TransactionNumber',\n",
       " 'UserID',\n",
       " 'Age',\n",
       " 'NumDependents',\n",
       " 'Latitude',\n",
       " 'Longitude',\n",
       " 'UserTenure',\n",
       " 'TypicalLocationFlag',\n",
       " 'Income_Amount',\n",
       " 'Expenditure_Amount',\n",
       " 'GiftsTransaction_Amount',\n",
       " 'TransactionAmount_Amount',\n",
       " 'Hour',\n",
       " 'Minute',\n",
       " 'Year',\n",
       " 'Month',\n",
       " 'Day',\n",
       " 'Transaction_Income_Ratio']"
      ]
     },
     "execution_count": 16,
     "metadata": {},
     "output_type": "execute_result"
    }
   ],
   "source": [
    "num_lst"
   ]
  },
  {
   "cell_type": "code",
   "execution_count": 17,
   "metadata": {},
   "outputs": [],
   "source": [
    "# Standardizing the numerical data to avoid skew data\n",
    "scaler = StandardScaler()\n",
    "scaled_features_numerical_train = scaler.fit_transform(numerical_train_data)\n",
    "scaled_features_numerical_train = pd.DataFrame(scaled_features_numerical_train)\n",
    "\n",
    "scaled_features_numerical_test = scaler.fit_transform(numerical_test_data)\n",
    "scaled_features_numerical_test = pd.DataFrame(scaled_features_numerical_test)\n",
    "\n",
    "# Using One hot encoding to replace string data\n",
    "encoded_obj_train = pd.get_dummies(obj_train_data).astype(int)\n",
    "obj_header = list(encoded_obj_train.columns)\n",
    "encoded_obj_test = pd.get_dummies(obj_test_data).astype(int)"
   ]
  },
  {
   "cell_type": "markdown",
   "metadata": {},
   "source": [
    "### Model Building"
   ]
  },
  {
   "cell_type": "code",
   "execution_count": 18,
   "metadata": {},
   "outputs": [],
   "source": [
    "final_train_data = pd.concat([scaled_features_numerical_train, encoded_obj_train], axis=1)\n",
    "final_test_data = pd.concat([scaled_features_numerical_test, encoded_obj_test], axis=1)\n",
    "\n",
    "transactionID_test = test_data[[\"TransactionNumber\"]]\n",
    "final_test_data.columns = range(final_test_data.shape[1])\n",
    "\n",
    "X = final_train_data\n",
    "y = fraud\n",
    "\n",
    "X.columns = range(X.shape[1])\n",
    "y.columns = range(y.shape[1])\n",
    "\n",
    "X_train, X_test, y_train, y_test = train_test_split(X, y, test_size=0.2, random_state=42)\n"
   ]
  },
  {
   "cell_type": "markdown",
   "metadata": {},
   "source": [
    "### Hyperparameter Tuning"
   ]
  },
  {
   "cell_type": "code",
   "execution_count": 19,
   "metadata": {},
   "outputs": [
    {
     "name": "stderr",
     "output_type": "stream",
     "text": [
      "/home/chin_chee_henn/.local/lib/python3.10/site-packages/sklearn/model_selection/_validation.py:540: FitFailedWarning: \n",
      "324 fits failed out of a total of 648.\n",
      "The score on these train-test partitions for these parameters will be set to nan.\n",
      "If these failures are not expected, you can try to debug them by setting error_score='raise'.\n",
      "\n",
      "Below are more details about the failures:\n",
      "--------------------------------------------------------------------------------\n",
      "295 fits failed with the following error:\n",
      "Traceback (most recent call last):\n",
      "  File \"/home/chin_chee_henn/.local/lib/python3.10/site-packages/sklearn/model_selection/_validation.py\", line 888, in _fit_and_score\n",
      "    estimator.fit(X_train, y_train, **fit_params)\n",
      "  File \"/home/chin_chee_henn/.local/lib/python3.10/site-packages/sklearn/base.py\", line 1466, in wrapper\n",
      "    estimator._validate_params()\n",
      "  File \"/home/chin_chee_henn/.local/lib/python3.10/site-packages/sklearn/base.py\", line 666, in _validate_params\n",
      "    validate_parameter_constraints(\n",
      "  File \"/home/chin_chee_henn/.local/lib/python3.10/site-packages/sklearn/utils/_param_validation.py\", line 95, in validate_parameter_constraints\n",
      "    raise InvalidParameterError(\n",
      "sklearn.utils._param_validation.InvalidParameterError: The 'max_features' parameter of RandomForestClassifier must be an int in the range [1, inf), a float in the range (0.0, 1.0], a str among {'sqrt', 'log2'} or None. Got 'auto' instead.\n",
      "\n",
      "--------------------------------------------------------------------------------\n",
      "29 fits failed with the following error:\n",
      "Traceback (most recent call last):\n",
      "  File \"/home/chin_chee_henn/.local/lib/python3.10/site-packages/sklearn/model_selection/_validation.py\", line 888, in _fit_and_score\n",
      "    estimator.fit(X_train, y_train, **fit_params)\n",
      "  File \"/home/chin_chee_henn/.local/lib/python3.10/site-packages/sklearn/base.py\", line 1466, in wrapper\n",
      "    estimator._validate_params()\n",
      "  File \"/home/chin_chee_henn/.local/lib/python3.10/site-packages/sklearn/base.py\", line 666, in _validate_params\n",
      "    validate_parameter_constraints(\n",
      "  File \"/home/chin_chee_henn/.local/lib/python3.10/site-packages/sklearn/utils/_param_validation.py\", line 95, in validate_parameter_constraints\n",
      "    raise InvalidParameterError(\n",
      "sklearn.utils._param_validation.InvalidParameterError: The 'max_features' parameter of RandomForestClassifier must be an int in the range [1, inf), a float in the range (0.0, 1.0], a str among {'log2', 'sqrt'} or None. Got 'auto' instead.\n",
      "\n",
      "  warnings.warn(some_fits_failed_message, FitFailedWarning)\n",
      "/home/chin_chee_henn/.local/lib/python3.10/site-packages/numpy/ma/core.py:2846: RuntimeWarning: invalid value encountered in cast\n",
      "  _data = np.array(data, dtype=dtype, copy=copy,\n",
      "/home/chin_chee_henn/.local/lib/python3.10/site-packages/sklearn/model_selection/_search.py:1102: UserWarning: One or more of the test scores are non-finite: [       nan        nan        nan        nan        nan        nan\n",
      "        nan        nan        nan        nan        nan        nan\n",
      "        nan        nan        nan        nan        nan        nan\n",
      " 0.99863211 0.99872331 0.99863211 0.99872333 0.99881451 0.99881451\n",
      " 0.99908806 0.99881451 0.99881451 0.99872333 0.99872333 0.99881451\n",
      " 0.99890568 0.99863211 0.99872331 0.99899688 0.99872333 0.99863211\n",
      "        nan        nan        nan        nan        nan        nan\n",
      "        nan        nan        nan        nan        nan        nan\n",
      "        nan        nan        nan        nan        nan        nan\n",
      " 0.99863211 0.99881453 0.99872333 0.99881448 0.99890568 0.99844976\n",
      " 0.99872333 0.99890573 0.99872331 0.99881451 0.99872331 0.99881451\n",
      " 0.99863211 0.99881451 0.99881448 0.99863211 0.99854096 0.99881451\n",
      "        nan        nan        nan        nan        nan        nan\n",
      "        nan        nan        nan        nan        nan        nan\n",
      "        nan        nan        nan        nan        nan        nan\n",
      " 0.99863216 0.99872331 0.99872331 0.99844976 0.99881448 0.99872329\n",
      " 0.99863214 0.99872333 0.99881451 0.99881451 0.99890568 0.99863214\n",
      " 0.99881451 0.99890568 0.99890568 0.99872331 0.99881448 0.99863214\n",
      "        nan        nan        nan        nan        nan        nan\n",
      "        nan        nan        nan        nan        nan        nan\n",
      "        nan        nan        nan        nan        nan        nan\n",
      " 0.99890566 0.99908806 0.99908806 0.99899686 0.99899686 0.99908806\n",
      " 0.99890568 0.99890568 0.99908806 0.99917926 0.99908806 0.99899686\n",
      " 0.99881448 0.99881448 0.99890568 0.99890571 0.99908806 0.99890566\n",
      "        nan        nan        nan        nan        nan        nan\n",
      "        nan        nan        nan        nan        nan        nan\n",
      "        nan        nan        nan        nan        nan        nan\n",
      " 0.99917928 0.99917926 0.99908806 0.99890568 0.99899686 0.99908806\n",
      " 0.99872331 0.99899686 0.99899686 0.99927046 0.99890568 0.99890568\n",
      " 0.99908806 0.99890566 0.99908806 0.99872331 0.99917926 0.99890566\n",
      "        nan        nan        nan        nan        nan        nan\n",
      "        nan        nan        nan        nan        nan        nan\n",
      "        nan        nan        nan        nan        nan        nan\n",
      " 0.99872331 0.99890566 0.99890566 0.99917928 0.99899686 0.99908806\n",
      " 0.99863209 0.99908806 0.99908806 0.99881446 0.99890566 0.99899686\n",
      " 0.99890566 0.99908806 0.99890568 0.99872331 0.99899686 0.99908806]\n",
      "  warnings.warn(\n"
     ]
    },
    {
     "name": "stdout",
     "output_type": "stream",
     "text": [
      "Best Parameters from GridSearchCV: {'bootstrap': False, 'max_depth': 10, 'max_features': 'sqrt', 'min_samples_leaf': 2, 'min_samples_split': 2, 'n_estimators': 100}\n"
     ]
    }
   ],
   "source": [
    "rfc = RandomForestClassifier()\n",
    "\n",
    "# Define the hyperparameter grid\n",
    "param_grid = {\n",
    "    'n_estimators': [100, 200, 300],\n",
    "    'max_depth': [None, 10, 20],\n",
    "    'min_samples_split': [2, 5, 10],\n",
    "    'min_samples_leaf': [1, 2],\n",
    "    'max_features': ['auto', 'sqrt'],\n",
    "    'bootstrap': [True, False]\n",
    "}\n",
    "\n",
    "# Tuning Hyperparameter for Random Forest Classifier\n",
    "grid_search = GridSearchCV(rfc, param_grid=param_grid, cv=3, n_jobs=-1, verbose=0)\n",
    "\n",
    "grid_search.fit(X, y.values.ravel())\n",
    "\n",
    "print(\"Best Parameters from GridSearchCV:\", grid_search.best_params_)"
   ]
  },
  {
   "cell_type": "code",
   "execution_count": 20,
   "metadata": {},
   "outputs": [],
   "source": [
    "# 0-R model\n",
    "y_freq = y_train.mode().iloc[0]\n",
    "y_freq = int(y_freq[0])\n",
    "Zero_R_pred = [y_freq]*len(y_test)"
   ]
  },
  {
   "cell_type": "code",
   "execution_count": 21,
   "metadata": {},
   "outputs": [
    {
     "name": "stderr",
     "output_type": "stream",
     "text": [
      "/home/chin_chee_henn/.local/lib/python3.10/site-packages/sklearn/base.py:1473: DataConversionWarning: A column-vector y was passed when a 1d array was expected. Please change the shape of y to (n_samples,), for example using ravel().\n",
      "  return fit_method(estimator, *args, **kwargs)\n"
     ]
    }
   ],
   "source": [
    "# Random Forest Classifier\n",
    "rf_model = RandomForestClassifier(max_depth=10,\n",
    "                                  max_features='sqrt',\n",
    "                                  min_samples_leaf=2,\n",
    "                                  min_samples_split=5,\n",
    "                                  n_estimators=100,\n",
    "                                  random_state=42)\n",
    "\n",
    "rf_model.fit(X_train, y_train)\n",
    "\n",
    "rf_y_pred_train = rf_model.predict(X_test)"
   ]
  },
  {
   "cell_type": "markdown",
   "metadata": {},
   "source": [
    "### Model Reports"
   ]
  },
  {
   "cell_type": "code",
   "execution_count": 22,
   "metadata": {},
   "outputs": [
    {
     "name": "stdout",
     "output_type": "stream",
     "text": [
      "0-R model\n",
      "Accuracy: 0.62352\n",
      "\n",
      "Classification Report:\n",
      "              precision   recall  f1-score     support\n",
      "0               0.62352  1.00000   0.76811  1368.00000\n",
      "1               0.00000  0.00000   0.00000   826.00000\n",
      "accuracy        0.62352  0.62352   0.62352     0.62352\n",
      "macro avg       0.31176  0.50000   0.38405  2194.00000\n",
      "weighted avg    0.38878  0.62352   0.47893  2194.00000\n",
      "\n",
      "Random Forest Classifier Model\n",
      "Accuracy: 0.99909\n",
      "\n",
      "Classification Report:\n",
      "              precision   recall  f1-score     support\n",
      "0               0.99854  1.00000   0.99927  1368.00000\n",
      "1               1.00000  0.99758   0.99879   826.00000\n",
      "accuracy        0.99909  0.99909   0.99909     0.99909\n",
      "macro avg       0.99927  0.99879   0.99903  2194.00000\n",
      "weighted avg    0.99909  0.99909   0.99909  2194.00000\n"
     ]
    },
    {
     "name": "stderr",
     "output_type": "stream",
     "text": [
      "/home/chin_chee_henn/.local/lib/python3.10/site-packages/sklearn/metrics/_classification.py:1531: UndefinedMetricWarning: Precision is ill-defined and being set to 0.0 in labels with no predicted samples. Use `zero_division` parameter to control this behavior.\n",
      "  _warn_prf(average, modifier, f\"{metric.capitalize()} is\", len(result))\n",
      "/home/chin_chee_henn/.local/lib/python3.10/site-packages/sklearn/metrics/_classification.py:1531: UndefinedMetricWarning: Precision is ill-defined and being set to 0.0 in labels with no predicted samples. Use `zero_division` parameter to control this behavior.\n",
      "  _warn_prf(average, modifier, f\"{metric.capitalize()} is\", len(result))\n",
      "/home/chin_chee_henn/.local/lib/python3.10/site-packages/sklearn/metrics/_classification.py:1531: UndefinedMetricWarning: Precision is ill-defined and being set to 0.0 in labels with no predicted samples. Use `zero_division` parameter to control this behavior.\n",
      "  _warn_prf(average, modifier, f\"{metric.capitalize()} is\", len(result))\n"
     ]
    }
   ],
   "source": [
    "# 0-R\n",
    "print(\"0-R model\")\n",
    "accuracy = accuracy_score(y_test, Zero_R_pred)\n",
    "print(f\"Accuracy: {accuracy:.5f}\")\n",
    "\n",
    "# Generate classification report\n",
    "print(\"\\nClassification Report:\")\n",
    "report_dict = classification_report(y_test, Zero_R_pred, output_dict=True)\n",
    "report_df = pd.DataFrame(report_dict).transpose()\n",
    "report_df = report_df.round(5)\n",
    "print(report_df)\n",
    "\n",
    "print()\n",
    "\n",
    "# Calculate accuracy\n",
    "print(\"Random Forest Classifier Model\")\n",
    "accuracy = accuracy_score(y_test, rf_y_pred_train)\n",
    "print(f\"Accuracy: {accuracy:.5f}\")\n",
    "\n",
    "# Generate classification report\n",
    "print(\"\\nClassification Report:\")\n",
    "report_dict = classification_report(y_test, rf_y_pred_train, output_dict=True)\n",
    "report_df = pd.DataFrame(report_dict).transpose()\n",
    "report_df = report_df.round(5)\n",
    "print(report_df)\n"
   ]
  },
  {
   "cell_type": "code",
   "execution_count": 23,
   "metadata": {},
   "outputs": [
    {
     "data": {
      "text/html": [
       "<div>\n",
       "<style scoped>\n",
       "    .dataframe tbody tr th:only-of-type {\n",
       "        vertical-align: middle;\n",
       "    }\n",
       "\n",
       "    .dataframe tbody tr th {\n",
       "        vertical-align: top;\n",
       "    }\n",
       "\n",
       "    .dataframe thead th {\n",
       "        text-align: right;\n",
       "    }\n",
       "</style>\n",
       "<table border=\"1\" class=\"dataframe\">\n",
       "  <thead>\n",
       "    <tr style=\"text-align: right;\">\n",
       "      <th></th>\n",
       "      <th>Feature</th>\n",
       "      <th>Importance</th>\n",
       "    </tr>\n",
       "  </thead>\n",
       "  <tbody>\n",
       "    <tr>\n",
       "      <th>12</th>\n",
       "      <td>Hour</td>\n",
       "      <td>0.449103</td>\n",
       "    </tr>\n",
       "    <tr>\n",
       "      <th>21</th>\n",
       "      <td>TransactionType_Withdrawal</td>\n",
       "      <td>0.267078</td>\n",
       "    </tr>\n",
       "    <tr>\n",
       "      <th>27</th>\n",
       "      <td>TransactionLocation_Melbourne</td>\n",
       "      <td>0.076889</td>\n",
       "    </tr>\n",
       "    <tr>\n",
       "      <th>19</th>\n",
       "      <td>TransactionType_Purchase</td>\n",
       "      <td>0.060737</td>\n",
       "    </tr>\n",
       "    <tr>\n",
       "      <th>20</th>\n",
       "      <td>TransactionType_Transfer</td>\n",
       "      <td>0.031970</td>\n",
       "    </tr>\n",
       "  </tbody>\n",
       "</table>\n",
       "</div>"
      ],
      "text/plain": [
       "                          Feature  Importance\n",
       "12                           Hour    0.449103\n",
       "21     TransactionType_Withdrawal    0.267078\n",
       "27  TransactionLocation_Melbourne    0.076889\n",
       "19       TransactionType_Purchase    0.060737\n",
       "20       TransactionType_Transfer    0.031970"
      ]
     },
     "execution_count": 23,
     "metadata": {},
     "output_type": "execute_result"
    }
   ],
   "source": [
    "importances = rf_model.feature_importances_\n",
    "\n",
    "feature_importances = pd.DataFrame({\n",
    "    'Feature': X.columns,\n",
    "    'Importance': importances\n",
    "})\n",
    "\n",
    "feature_importances = feature_importances.sort_values(by='Importance', ascending=False)\n",
    "\n",
    "feature_lst = num_lst + obj_header\n",
    "feature_idx = {}\n",
    "index = 0\n",
    "for feature in feature_lst:\n",
    "    feature_idx[index] = feature\n",
    "    index += 1\n",
    "\n",
    "feature_importances['Feature'] = feature_importances['Feature'].map(feature_idx)\n",
    "# Get the top 5 most important features\n",
    "feature_importances.head(5)"
   ]
  },
  {
   "cell_type": "code",
   "execution_count": 24,
   "metadata": {},
   "outputs": [
    {
     "name": "stdout",
     "output_type": "stream",
     "text": [
      "Zero-R model\n"
     ]
    },
    {
     "data": {
      "image/png": "[encoded data removed]",
      "text/plain": [
       "<Figure size 800x600 with 1 Axes>"
      ]
     },
     "metadata": {},
     "output_type": "display_data"
    }
   ],
   "source": [
    "# Compute confusion matrix\n",
    "print(\"Zero-R model\")\n",
    "cm = confusion_matrix(y_test, Zero_R_pred)\n",
    "cm_df = pd.DataFrame(cm, index=['0', '1'], columns=['0', '1'])\n",
    "\n",
    "# Plot the confusion matrix\n",
    "plt.figure(figsize=(8, 6))\n",
    "sns.heatmap(cm_df, annot=True, fmt='d', cmap='Blues', cbar=False, linewidths=0.5)\n",
    "plt.title('0-R Confusion Matrix')\n",
    "plt.xlabel('Predicted Label')\n",
    "plt.ylabel('True Label')\n",
    "plt.show()"
   ]
  },
  {
   "cell_type": "code",
   "execution_count": 25,
   "metadata": {},
   "outputs": [
    {
     "name": "stdout",
     "output_type": "stream",
     "text": [
      "Random Forest Classifier\n"
     ]
    },
    {
     "data": {
      "image/png": "[encoded data removed]",
      "text/plain": [
       "<Figure size 600x400 with 1 Axes>"
      ]
     },
     "metadata": {},
     "output_type": "display_data"
    }
   ],
   "source": [
    "# Compute confusion matrix\n",
    "print(\"Random Forest Classifier\")\n",
    "cm = confusion_matrix(y_test, rf_y_pred_train)\n",
    "cm_df = pd.DataFrame(cm, index=['0', '1'], columns=['0', '1'])\n",
    "\n",
    "# Plot the confusion matrix\n",
    "plt.figure(figsize=(6, 4))\n",
    "sns.heatmap(cm_df, annot=True, fmt='d', cmap='Blues', cbar=False, linewidths=0.5)\n",
    "plt.title('RFC Confusion Matrix')\n",
    "plt.xlabel('Predicted Label')\n",
    "plt.ylabel('True Label')\n",
    "plt.show()"
   ]
  },
  {
   "cell_type": "code",
   "execution_count": 26,
   "metadata": {},
   "outputs": [
    {
     "name": "stderr",
     "output_type": "stream",
     "text": [
      "/home/chin_chee_henn/.local/lib/python3.10/site-packages/sklearn/base.py:1473: DataConversionWarning: A column-vector y was passed when a 1d array was expected. Please change the shape of y to (n_samples,), for example using ravel().\n",
      "  return fit_method(estimator, *args, **kwargs)\n",
      "/home/chin_chee_henn/.local/lib/python3.10/site-packages/sklearn/base.py:1473: DataConversionWarning: A column-vector y was passed when a 1d array was expected. Please change the shape of y to (n_samples,), for example using ravel().\n",
      "  return fit_method(estimator, *args, **kwargs)\n",
      "/home/chin_chee_henn/.local/lib/python3.10/site-packages/sklearn/base.py:1473: DataConversionWarning: A column-vector y was passed when a 1d array was expected. Please change the shape of y to (n_samples,), for example using ravel().\n",
      "  return fit_method(estimator, *args, **kwargs)\n",
      "/home/chin_chee_henn/.local/lib/python3.10/site-packages/sklearn/base.py:1473: DataConversionWarning: A column-vector y was passed when a 1d array was expected. Please change the shape of y to (n_samples,), for example using ravel().\n",
      "  return fit_method(estimator, *args, **kwargs)\n",
      "/home/chin_chee_henn/.local/lib/python3.10/site-packages/sklearn/base.py:1473: DataConversionWarning: A column-vector y was passed when a 1d array was expected. Please change the shape of y to (n_samples,), for example using ravel().\n",
      "  return fit_method(estimator, *args, **kwargs)\n"
     ]
    },
    {
     "name": "stdout",
     "output_type": "stream",
     "text": [
      "Cross-Validation Scores for Each Fold: [1.         0.99817601 0.99863201 0.99817601 0.999544  ]\n",
      "Mean CV Accuracy: 0.99891\n"
     ]
    }
   ],
   "source": [
    "# Finding Accuracy using cross validation\n",
    "cv_scores = cross_val_score(rf_model, X, y, cv=5)\n",
    "print(\"Cross-Validation Scores for Each Fold:\", cv_scores)\n",
    "print(f\"Mean CV Accuracy: {cv_scores.mean():.5f}\")"
   ]
  },
  {
   "cell_type": "code",
   "execution_count": 27,
   "metadata": {},
   "outputs": [
    {
     "name": "stderr",
     "output_type": "stream",
     "text": [
      "/home/chin_chee_henn/.local/lib/python3.10/site-packages/sklearn/base.py:1473: DataConversionWarning: A column-vector y was passed when a 1d array was expected. Please change the shape of y to (n_samples,), for example using ravel().\n",
      "  return fit_method(estimator, *args, **kwargs)\n",
      "/home/chin_chee_henn/.local/lib/python3.10/site-packages/sklearn/base.py:1473: DataConversionWarning: A column-vector y was passed when a 1d array was expected. Please change the shape of y to (n_samples,), for example using ravel().\n",
      "  return fit_method(estimator, *args, **kwargs)\n",
      "/home/chin_chee_henn/.local/lib/python3.10/site-packages/sklearn/base.py:1473: DataConversionWarning: A column-vector y was passed when a 1d array was expected. Please change the shape of y to (n_samples,), for example using ravel().\n",
      "  return fit_method(estimator, *args, **kwargs)\n",
      "/home/chin_chee_henn/.local/lib/python3.10/site-packages/sklearn/base.py:1473: DataConversionWarning: A column-vector y was passed when a 1d array was expected. Please change the shape of y to (n_samples,), for example using ravel().\n",
      "  return fit_method(estimator, *args, **kwargs)\n",
      "/home/chin_chee_henn/.local/lib/python3.10/site-packages/sklearn/base.py:1473: DataConversionWarning: A column-vector y was passed when a 1d array was expected. Please change the shape of y to (n_samples,), for example using ravel().\n",
      "  return fit_method(estimator, *args, **kwargs)\n"
     ]
    },
    {
     "name": "stdout",
     "output_type": "stream",
     "text": [
      "F1 Scores: [1.         0.99749059 0.99812148 0.99749373 0.99937383]\n",
      "Precision Scores: [1.         1.         0.99874687 0.99874529 1.        ]\n",
      "Recall Scores: [1.         0.99499374 0.99749687 0.99624531 0.99874844]\n",
      "Average F1 Score: 0.998495925548337\n",
      "Average Precision: 0.9994984324047257\n",
      "Average Recall: 0.9974968710888611\n"
     ]
    }
   ],
   "source": [
    "# Scorings for cross-validation\n",
    "scoring = {'f1': 'f1', 'precision': 'precision', 'recall': 'recall'}\n",
    "\n",
    "# Cross-validation to confirm accuracy\n",
    "scores = cross_validate(rf_model, X, y, cv=5, scoring=scoring, return_train_score=False)\n",
    "\n",
    "# Results\n",
    "print(f\"F1 Scores: {scores['test_f1']}\")\n",
    "print(f\"Precision Scores: {scores['test_precision']}\")\n",
    "print(f\"Recall Scores: {scores['test_recall']}\")\n",
    "\n",
    "# Average Scores\n",
    "print(f\"Average F1 Score: {scores['test_f1'].mean()}\")\n",
    "print(f\"Average Precision: {scores['test_precision'].mean()}\")\n",
    "print(f\"Average Recall: {scores['test_recall'].mean()}\")"
   ]
  },
  {
   "cell_type": "code",
   "execution_count": 28,
   "metadata": {},
   "outputs": [],
   "source": [
    "# Zero-R Test\n",
    "zero_R_pred_test = [y_freq]*len(final_test_data)\n",
    "zero_R_pred_test = pd.DataFrame(zero_R_pred_test, columns=['IsFraud'])  \n",
    "zero_R_solution = pd.concat([transactionID_test, zero_R_pred_test], axis=1)"
   ]
  },
  {
   "cell_type": "code",
   "execution_count": 29,
   "metadata": {},
   "outputs": [],
   "source": [
    "# Random Forest Classifier Test\n",
    "rfc_y_pred_test = rf_model.predict(final_test_data)\n",
    "rfc_y_pred_test = pd.DataFrame(rfc_y_pred_test, columns=['IsFraud'])  \n",
    "rfc_solution = pd.concat([transactionID_test, rfc_y_pred_test], axis=1)"
   ]
  },
  {
   "cell_type": "markdown",
   "metadata": {},
   "source": [
    "### Saving Solutions into Submission Format"
   ]
  },
  {
   "cell_type": "code",
   "execution_count": 30,
   "metadata": {},
   "outputs": [],
   "source": [
    "import os\n",
    "\n",
    "# Creating folder if folder does not exist\n",
    "folder_path = '../results'\n",
    "\n",
    "if not os.path.exists(folder_path):\n",
    "    os.makedirs(folder_path)\n",
    "\n",
    "# Saving to /data/raw\n",
    "rfc_file_path = os.path.join(folder_path, 'rfc_solution.csv')\n",
    "zero_R_file_path = os.path.join(folder_path, 'zero_R_solution.csv')\n",
    "\n",
    "rfc_solution.to_csv(rfc_file_path, index=False)\n",
    "zero_R_solution.to_csv(zero_R_file_path, index=False)"
   ]
  }
 ],
 "metadata": {
  "kernelspec": {
   "display_name": "Python 3",
   "language": "python",
   "name": "python3"
  },
  "language_info": {
   "codemirror_mode": {
    "name": "ipython",
    "version": 3
   },
   "file_extension": ".py",
   "mimetype": "text/x-python",
   "name": "python",
   "nbconvert_exporter": "python",
   "pygments_lexer": "ipython3",
   "version": "3.10.12"
  }
 },
 "nbformat": 4,
 "nbformat_minor": 2
}
